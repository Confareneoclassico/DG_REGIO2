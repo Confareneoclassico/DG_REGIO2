{
 "cells": [
  {
   "cell_type": "markdown",
   "metadata": {},
   "source": [
    "### Importing all the relevant libraries"
   ]
  },
  {
   "cell_type": "code",
   "execution_count": 1,
   "metadata": {},
   "outputs": [],
   "source": [
    "import matplotlib\n",
    "import matplotlib.pyplot as plt\n",
    "import pkg_resources\n",
    "import pandas as pd\n",
    "import numpy as np\n",
    "import sobol_seq\n",
    "from tabulate import tabulate\n",
    "import time\n",
    "import types"
   ]
  },
  {
   "cell_type": "code",
   "execution_count": 2,
   "metadata": {},
   "outputs": [
    {
     "name": "stdout",
     "output_type": "stream",
     "text": [
      "tabulate==0.8.3\n",
      "pandas==0.24.2\n",
      "numpy==1.16.3\n",
      "matplotlib==3.0.3\n"
     ]
    }
   ],
   "source": [
    "def get_imports():\n",
    "    for name, val in globals().items():\n",
    "        if isinstance(val, types.ModuleType):\n",
    "            \n",
    "            name = val.__name__.split(\".\")[0]\n",
    "\n",
    "        elif isinstance(val, type):\n",
    "            name = val.__module__.split(\".\")[0]\n",
    "            \n",
    "        poorly_named_packages = {\n",
    "            \"PIL\": \"Pillow\",\n",
    "            \"sklearn\": \"scikit-learn\"\n",
    "        }\n",
    "        if name in poorly_named_packages.keys():\n",
    "            name = poorly_named_packages[name]\n",
    "\n",
    "        yield name\n",
    "imports = list(set(get_imports()))\n",
    "\n",
    "requirements = []\n",
    "for m in pkg_resources.working_set:\n",
    "    if m.project_name in imports and m.project_name!=\"pip\":\n",
    "        requirements.append((m.project_name, m.version))\n",
    "\n",
    "for r in requirements:\n",
    "    print(\"{}=={}\".format(*r))"
   ]
  },
  {
   "cell_type": "markdown",
   "metadata": {},
   "source": [
    "### Define a function to uniform the database formatting as to ease their cross-comparison"
   ]
  },
  {
   "cell_type": "code",
   "execution_count": 3,
   "metadata": {},
   "outputs": [],
   "source": [
    "def formatting(x):\n",
    "    return pd.pivot_table(pd.melt(x,id_vars=['ProgrammingPeriod','Country','NUTS1Code','NUTS2Code','Year'],\n",
    "        var_name='FundingScheme'),index=['ProgrammingPeriod','FundingScheme','Country','NUTS1Code','NUTS2Code'],\n",
    "        values='value',columns='Year')"
   ]
  },
  {
   "cell_type": "markdown",
   "metadata": {},
   "source": [
    "### Open the dataset and isolate the rows relative to DG REGIO programmes"
   ]
  },
  {
   "cell_type": "code",
   "execution_count": 4,
   "metadata": {},
   "outputs": [],
   "source": [
    "df = pd.read_excel('nuts_prog_kat_Cohesion_codesonly_v3.xlsx',usecols=[0,1,5,6,9,10,11,12])\n",
    "\n",
    "df_EU = pd.read_excel('Database_Final_UPD(3).xlsx')\n",
    "df_REGIO = df[(df['CCI'].str.contains(\"161\"))|df['CCI'].str.contains(\"162\")]\n",
    "df_expenditures = pd.read_excel('PivotedData.xlsx',sheet_name='Mean',index_col=0)"
   ]
  },
  {
   "cell_type": "markdown",
   "metadata": {},
   "source": [
    "### Let us normalise the database as to make figures consistent between the Czech and the EU datasets"
   ]
  },
  {
   "cell_type": "code",
   "execution_count": 5,
   "metadata": {},
   "outputs": [],
   "source": [
    "df_REGIO_capped = df_REGIO[df_REGIO.year<2017]"
   ]
  },
  {
   "cell_type": "markdown",
   "metadata": {},
   "source": [
    "### Assumption on the exchange rate - retrieved from http://sdw.ecb.europa.eu"
   ]
  },
  {
   "cell_type": "code",
   "execution_count": 6,
   "metadata": {},
   "outputs": [],
   "source": [
    "ER = pd.read_csv('CZK_EURO_historical_exchange_rate.csv')\n",
    "ExchangeRates = ER.copy()\n",
    "ExchangeRates['year']=ER.date.astype(str).str[:4].astype(int)\n",
    "ExchangeRates = ExchangeRates[(ExchangeRates['year']>2006)&(ExchangeRates['year']<2017)]\n",
    "ExchangeRates=ExchangeRates.drop(['date','conf'],axis=1).set_index('year')"
   ]
  },
  {
   "cell_type": "markdown",
   "metadata": {},
   "source": [
    "### Let adjust the database formatting for the sake of comparability across figures"
   ]
  },
  {
   "cell_type": "code",
   "execution_count": 7,
   "metadata": {},
   "outputs": [],
   "source": [
    "DS = [df_EU,df_expenditures]\n",
    "ds_names = ['EU_Payments','Expenditures']\n",
    "ds_pivoted = dict(zip(ds_names,[formatting(ds) for ds in DS]))"
   ]
  },
  {
   "cell_type": "markdown",
   "metadata": {},
   "source": [
    "### Let isolate the IT figures for the programming period 2007-2013, the funding scheme ERDF"
   ]
  },
  {
   "cell_type": "code",
   "execution_count": 8,
   "metadata": {},
   "outputs": [],
   "source": [
    "ds_ERDF = ds_pivoted['Expenditures'].loc['2007-2013','ERDF_TOTAL','CZ',:,:]\n",
    "ds_ERDF.index = ds_ERDF.index.droplevel(1)\n",
    "ds_CF = ds_pivoted['Expenditures'].loc['2007-2013','CF_TOTAL','CZ',:,:]\n",
    "ds_CF.index = ds_CF.index.droplevel(1)\n",
    "df_20072013_CFERDF_CZ=(ds_ERDF+ds_CF).T.loc[2007:].T"
   ]
  },
  {
   "cell_type": "code",
   "execution_count": 9,
   "metadata": {},
   "outputs": [],
   "source": [
    "df_REGIO_yearly = df_REGIO_capped.groupby('year')\n",
    "df_REGIO_su = pd.DataFrame([dfr['EU (czk)'].sum() for idf, dfr in df_REGIO_yearly], \n",
    "                            index=[idf for idf, dfr in df_REGIO_yearly],columns=['sum'])"
   ]
  },
  {
   "cell_type": "code",
   "execution_count": 10,
   "metadata": {},
   "outputs": [],
   "source": [
    "ExchangeRates['s2'] = ExchangeRates.s1.mean()"
   ]
  },
  {
   "cell_type": "code",
   "execution_count": 11,
   "metadata": {},
   "outputs": [],
   "source": [
    "exchange_rate = [ExchangeRates.s1,ExchangeRates['s2']]\n",
    "er_n = ['Constant','Yearly average']"
   ]
  },
  {
   "cell_type": "code",
   "execution_count": 12,
   "metadata": {},
   "outputs": [
    {
     "data": {
      "text/plain": [
       "NUTS2\n",
       "CZ01    3.843249e+10\n",
       "CZ02    7.417647e+10\n",
       "CZ03    7.228067e+10\n",
       "CZ04    5.887084e+10\n",
       "CZ05    6.846363e+10\n",
       "CZ06    9.250550e+10\n",
       "CZ07    6.994598e+10\n",
       "CZ08    6.954484e+10\n",
       "dtype: float64"
      ]
     },
     "execution_count": 12,
     "metadata": {},
     "output_type": "execute_result"
    }
   ],
   "source": [
    "Excess=(df_REGIO_capped.groupby('NUTS2').sum())['EU (czk)']-df_20072013_CFERDF_CZ.groupby('NUTS2Code').sum().sum(axis=1)\n",
    "\n",
    "Excess"
   ]
  },
  {
   "cell_type": "code",
   "execution_count": 13,
   "metadata": {},
   "outputs": [],
   "source": [
    "df_REGIO_yearly = df_REGIO_capped.groupby(['NUTS2','year']).sum()\n",
    "df_REGIO_yearly['Year']=df_REGIO_yearly.index.get_level_values(1)\n",
    "df_REGIO_yearly=df_REGIO_yearly.droplevel(1)\n",
    "df_REGIO_pv = df_REGIO_yearly.pivot_table(index='Year', columns='NUTS2', values='EU (czk)').fillna(0)"
   ]
  },
  {
   "cell_type": "markdown",
   "metadata": {},
   "source": [
    "### Let us test how the assumption on the number of years from which the exceeding payment should be cut out for the sake of normalisation"
   ]
  },
  {
   "cell_type": "code",
   "execution_count": 14,
   "metadata": {},
   "outputs": [
    {
     "name": "stderr",
     "output_type": "stream",
     "text": [
      "C:\\ProgramData\\Anaconda3\\lib\\site-packages\\ipykernel_launcher.py:20: FutureWarning: by argument to sort_index is deprecated, please use .sort_values(by=...)\n",
      "C:\\ProgramData\\Anaconda3\\lib\\site-packages\\ipykernel_launcher.py:23: FutureWarning: by argument to sort_index is deprecated, please use .sort_values(by=...)\n",
      "C:\\ProgramData\\Anaconda3\\lib\\site-packages\\ipykernel_launcher.py:26: FutureWarning: by argument to sort_index is deprecated, please use .sort_values(by=...)\n"
     ]
    }
   ],
   "source": [
    "distance_l = []\n",
    "distance_y = []\n",
    "norm = []\n",
    "idx = []\n",
    "for ei,i in enumerate(reversed(df_REGIO_pv.index)):\n",
    "    for ie,er in enumerate(exchange_rate):\n",
    "        df_REGIO_sum = (df_REGIO_pv.T/er.values).T\n",
    "        Excess = df_REGIO_sum.sum()-df_20072013_CFERDF_CZ.groupby('NUTS2Code').sum().sum(axis=1)\n",
    "        df_REGIO_norm = df_REGIO_sum.copy()\n",
    "        df_REGIO_norm.loc[i:2016]=df_REGIO_sum.loc[i:2016]-Excess/(2016-i+1)\n",
    "        norm.append(df_REGIO_norm)\n",
    "        distance_l.append((np.abs((df_REGIO_norm.cumsum()-df_20072013_CFERDF_CZ.droplevel([0,1,2]).T.loc[2007:].cumsum())/\\\n",
    "                       df_REGIO_norm.sum())).sum().round(1))\n",
    "        distance_l[-1]['years']=ei+1\n",
    "        distance_l[-1]['exchange_rate']=er_n[ie]\n",
    "        distance_y.append(np.abs(df_REGIO_norm.cumsum()-df_20072013_CFERDF_CZ.droplevel([0,1,2]).T.loc[2007:].cumsum()))\n",
    "        distance_y[-1]['years']=ei+1\n",
    "        norm[-1]['years']=ei+1\n",
    "        distance_y[-1]['exchange_rate']=er_n[ie]\n",
    "distance = pd.concat(distance_l,axis=1).T.set_index(['years', 'exchange_rate']).sort_index(by=['exchange_rate','years'])\n",
    "distance_yearly = pd.concat(distance_y).sort_index()\n",
    "distance_yearly.set_index(['exchange_rate','years'],append=True, inplace=True)\n",
    "distance_yearly=distance_yearly.reorder_levels([1,2,0]).sort_index(by=['exchange_rate','years','Year'])\n",
    "norm_df = pd.concat(norm).sort_index()\n",
    "norm_df.set_index('years',append=True, inplace=True)\n",
    "norm_df=norm_df.swaplevel().sort_index(by=['years','Year'])"
   ]
  },
  {
   "cell_type": "code",
   "execution_count": 15,
   "metadata": {},
   "outputs": [
    {
     "name": "stderr",
     "output_type": "stream",
     "text": [
      "C:\\ProgramData\\Anaconda3\\lib\\site-packages\\ipykernel_launcher.py:4: FutureWarning: by argument to sort_index is deprecated, please use .sort_values(by=...)\n",
      "  after removing the cwd from sys.path.\n",
      "C:\\ProgramData\\Anaconda3\\lib\\site-packages\\ipykernel_launcher.py:8: FutureWarning: by argument to sort_index is deprecated, please use .sort_values(by=...)\n",
      "  \n"
     ]
    }
   ],
   "source": [
    "norm_data = norm_df.groupby('Year').min()\n",
    "norm_data['val']='min'\n",
    "norm_data.set_index('val',append=True, inplace=True)\n",
    "norm_data=norm_data.swaplevel().sort_index(by=['val','Year'])\n",
    "norm_data2 = norm_df.groupby('Year').max()\n",
    "norm_data2['val']='max'\n",
    "norm_data2.set_index('val',append=True, inplace=True)\n",
    "norm_data2=norm_data2.swaplevel().sort_index(by=['val','Year'])\n",
    "norm_dataset = pd.concat([norm_data,norm_data2]).to_csv('norm_CZ_NUTS2.csv',header=True)"
   ]
  },
  {
   "cell_type": "code",
   "execution_count": 232,
   "metadata": {},
   "outputs": [],
   "source": [
    "mu = pd.read_csv('mu_CZ.csv',index_col=0)"
   ]
  },
  {
   "cell_type": "code",
   "execution_count": 233,
   "metadata": {},
   "outputs": [
    {
     "data": {
      "image/png": "[encoded data removed]",
      "text/plain": [
       "<Figure size 432x288 with 1 Axes>"
      ]
     },
     "metadata": {
      "needs_background": "light"
     },
     "output_type": "display_data"
    }
   ],
   "source": [
    "plt.scatter(mu.rank(ascending=False),distance.max().rank(),label=distance.max().index)\n",
    "plt.xlabel('index of regional specificity reverse rank')\n",
    "plt.ylabel('maximum distance rank')\n",
    "plt.show()"
   ]
  },
  {
   "cell_type": "code",
   "execution_count": 234,
   "metadata": {},
   "outputs": [
    {
     "data": {
      "image/png": "[encoded data removed]",
      "text/plain": [
       "<Figure size 432x288 with 1 Axes>"
      ]
     },
     "metadata": {
      "needs_background": "light"
     },
     "output_type": "display_data"
    }
   ],
   "source": [
    "plt.scatter(mu.rank(ascending=False),distance.min().rank(),label=distance.max().index)\n",
    "plt.xlabel('index of regional specificity reverse rank')\n",
    "plt.ylabel('minimum distance rank')\n",
    "plt.show()"
   ]
  },
  {
   "cell_type": "code",
   "execution_count": null,
   "metadata": {},
   "outputs": [],
   "source": []
  }
 ],
 "metadata": {
  "kernelspec": {
   "display_name": "Python 3",
   "language": "python",
   "name": "python3"
  },
  "language_info": {
   "codemirror_mode": {
    "name": "ipython",
    "version": 3
   },
   "file_extension": ".py",
   "mimetype": "text/x-python",
   "name": "python",
   "nbconvert_exporter": "python",
   "pygments_lexer": "ipython3",
   "version": "3.7.3"
  }
 },
 "nbformat": 4,
 "nbformat_minor": 2
}
