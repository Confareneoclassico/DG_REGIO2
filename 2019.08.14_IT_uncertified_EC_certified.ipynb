{
 "cells": [
  {
   "cell_type": "markdown",
   "metadata": {},
   "source": [
    "# Comparison of the uncertified Italian expenditure database against the European Commission payment database\n",
    "\n",
    "In this notebook the figures for the _ERDF_ funding scheme over the programming period _2007-2013_ are compared for Italy across the member-state and the commission database. The aim is to assess the magnitude of the uncertified expenditures and which funded programmes are the most affected. \n",
    "\n",
    "Let's start off by importing all the relevant libraries and report the system requirements."
   ]
  },
  {
   "cell_type": "code",
   "execution_count": null,
   "metadata": {},
   "outputs": [],
   "source": [
    "import matplotlib\n",
    "import matplotlib.pyplot as plt\n",
    "import pkg_resources\n",
    "import pandas as pd\n",
    "import numpy as np\n",
    "import sobol_seq\n",
    "import time\n",
    "import types\n",
    "\n",
    "def get_imports():\n",
    "    for name, val in globals().items():\n",
    "        if isinstance(val, types.ModuleType):\n",
    "            \n",
    "            name = val.__name__.split(\".\")[0]\n",
    "\n",
    "        elif isinstance(val, type):\n",
    "            name = val.__module__.split(\".\")[0]\n",
    "            \n",
    "        poorly_named_packages = {\n",
    "            \"PIL\": \"Pillow\",\n",
    "            \"sklearn\": \"scikit-learn\"\n",
    "        }\n",
    "        if name in poorly_named_packages.keys():\n",
    "            name = poorly_named_packages[name]\n",
    "\n",
    "        yield name\n",
    "imports = list(set(get_imports()))\n",
    "\n",
    "requirements = []\n",
    "for m in pkg_resources.working_set:\n",
    "    if m.project_name in imports and m.project_name!=\"pip\":\n",
    "        requirements.append((m.project_name, m.version))\n",
    "\n",
    "for r in requirements:\n",
    "    print(\"{}=={}\".format(*r))"
   ]
  },
  {
   "cell_type": "markdown",
   "metadata": {},
   "source": [
    "The databases can then be imported and the relevant figures singled out to ease the comparision."
   ]
  },
  {
   "cell_type": "code",
   "execution_count": null,
   "metadata": {},
   "outputs": [],
   "source": [
    "df = pd.read_excel('20181231 Pagamenti ammessi PO 2007-2013.xls',usecols=[0,1,2,3,4,5,7])\n",
    "df_IT = df[(df['CCI'].str.contains(\"161\"))|df['CCI'].str.contains(\"162\")].groupby('CCI').PAGAMENTO_AMMESSO_UE.sum()\n",
    "\n",
    "df_EC = pd.read_excel('2007-13 categorisation cohesion policy FIR.xlsx',sheet_name='Details')\n",
    "old = pd.read_excel('Database_Final_UPD(3).xlsx')\n",
    "\n",
    "df_EC_IT = df_EC[(df_EC['Country Cd']=='IT')&(df_EC.DG=='REGIO')].groupby('Cci')['AR Community Amount in M. €'].sum()*1e6\n",
    "old_IT = old.ERDF_TOTAL[(old.ProgrammingPeriod=='2007-2013')&(old.Country=='IT')].sum()"
   ]
  },
  {
   "cell_type": "markdown",
   "metadata": {},
   "source": [
    "The differences can be finally assessed across programmes (indetified by their CCI code) and the most relevant trends can be visually identified."
   ]
  },
  {
   "cell_type": "code",
   "execution_count": null,
   "metadata": {},
   "outputs": [],
   "source": [
    "diff = df_EC_IT-df_IT\n",
    "diff = pd.concat([diff,(diff*100/df_EC_IT).round(1)],axis=1)\n",
    "\n",
    "diff['colors'] = ['red' if x < 0 else 'blue' for x in diff[0]]\n",
    "\n",
    "# Draw plot\n",
    "plt.figure(figsize=(14,10), dpi= 80)\n",
    "plt.hlines(y=diff.index, xmin=0, xmax=diff[0], color=diff.colors, alpha=0.4, linewidth=5)\n",
    "\n",
    "# Decorations\n",
    "plt.gca().set(ylabel='$Programme$', xlabel='$Difference - €$')\n",
    "plt.yticks(diff.index, fontsize=12)\n",
    "plt.grid(linestyle='--', alpha=0.5)\n",
    "plt.show()"
   ]
  },
  {
   "cell_type": "code",
   "execution_count": null,
   "metadata": {},
   "outputs": [],
   "source": [
    "# Draw plot\n",
    "plt.figure(figsize=(14,10), dpi= 80)\n",
    "plt.hlines(y=diff.index, xmin=0, xmax=diff[1], color=diff.colors, alpha=0.4, linewidth=5)\n",
    "\n",
    "# Decorations\n",
    "plt.gca().set(ylabel='$Programme$', xlabel='$Difference$')\n",
    "plt.yticks(diff.index, fontsize=12)\n",
    "plt.grid(linestyle='--', alpha=0.5)\n",
    "plt.show()"
   ]
  }
 ],
 "metadata": {
  "kernelspec": {
   "display_name": "Python 3",
   "language": "python",
   "name": "python3"
  },
  "language_info": {
   "codemirror_mode": {
    "name": "ipython",
    "version": 3
   },
   "file_extension": ".py",
   "mimetype": "text/x-python",
   "name": "python",
   "nbconvert_exporter": "python",
   "pygments_lexer": "ipython3",
   "version": "3.7.2"
  }
 },
 "nbformat": 4,
 "nbformat_minor": 2
}
