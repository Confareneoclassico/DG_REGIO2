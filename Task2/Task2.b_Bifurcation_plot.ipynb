{
 "cells": [
  {
   "cell_type": "markdown",
   "metadata": {},
   "source": [
    "# Bifurcation plot\n",
    "\n",
    "The first step is to import all the relevant libraries as usual"
   ]
  },
  {
   "cell_type": "code",
   "execution_count": null,
   "metadata": {},
   "outputs": [],
   "source": [
    "from graphviz import Digraph\n",
    "\n",
    "import os\n",
    "os.environ[\"PATH\"] += os.pathsep + 'C:/Program Files (x86)/Graphviz2.38/bin/'\n",
    "os.system('dot -Tpng random.dot -o random.png')"
   ]
  },
  {
   "cell_type": "markdown",
   "metadata": {},
   "source": [
    "##### The graph can then easily sketched by using the graphviz package"
   ]
  },
  {
   "cell_type": "code",
   "execution_count": null,
   "metadata": {},
   "outputs": [],
   "source": [
    "dot = Digraph(comment='Payment splittings')\n",
    "dot.format = 'png'\n",
    "\n",
    "dot.node('A', 'European Commission Database', color = 'blue', shape = 'trapezium')\n",
    "\n",
    "dot.node('B', 'Unambiguously regionalised',color='red',shape='box')\n",
    "dot.node('Z', 'Non-unambiguosly regionalised')\n",
    "\n",
    "dot.node('C', 'EAFRD, EMFF, FEAD funding schemes',color='red',shape='box')\n",
    "dot.node('V', 'Non-unambiguosly regionalised and CF, ERDF, ESF, YEI funding schemes')\n",
    "\n",
    "dot.node('W','No development category')\n",
    "dot.node('D', 'NUTS0 no development', color='red',shape='box')\n",
    "dot.node('E','NUTS1 no development', color='red',shape='box')\n",
    "dot.node('F','NUTS2 no development',color='red',shape='box')\n",
    "\n",
    "dot.node('X','Development category')\n",
    "dot.node('G','NUTS0 development',color='red',shape='box')\n",
    "dot.node('H','NUTS1 development',color='red',shape='box')\n",
    "dot.node('I','NUTS2 development',color='red',shape='box')\n",
    "\n",
    "dot.edges(['AB', 'AZ','ZC','ZV','VW','VX','WD','WE','WF','XG','XH','XI'])\n",
    "dot.render(filename='dot.dot')"
   ]
  }
 ],
 "metadata": {
  "kernelspec": {
   "display_name": "Python 3",
   "language": "python",
   "name": "python3"
  },
  "language_info": {
   "codemirror_mode": {
    "name": "ipython",
    "version": 3
   },
   "file_extension": ".py",
   "mimetype": "text/x-python",
   "name": "python",
   "nbconvert_exporter": "python",
   "pygments_lexer": "ipython3",
   "version": "3.7.2"
  }
 },
 "nbformat": 4,
 "nbformat_minor": 2
}
