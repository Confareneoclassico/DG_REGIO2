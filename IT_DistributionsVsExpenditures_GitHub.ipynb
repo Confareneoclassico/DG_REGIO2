{
 "cells": [
  {
   "cell_type": "markdown",
   "metadata": {},
   "source": [
    "### Importing all the relevant libraries"
   ]
  },
  {
   "cell_type": "code",
   "execution_count": 1,
   "metadata": {},
   "outputs": [
    {
     "name": "stdout",
     "output_type": "stream",
     "text": [
      "tabulate==0.8.3\n",
      "pandas==0.24.2\n",
      "numpy==1.16.3\n",
      "matplotlib==3.0.3\n"
     ]
    }
   ],
   "source": [
    "import matplotlib\n",
    "import matplotlib.pyplot as plt\n",
    "import pkg_resources\n",
    "import pandas as pd\n",
    "import numpy as np\n",
    "import sobol_seq\n",
    "from tabulate import tabulate\n",
    "import time\n",
    "import types\n",
    "\n",
    "def get_imports():\n",
    "    for name, val in globals().items():\n",
    "        if isinstance(val, types.ModuleType):\n",
    "            \n",
    "            name = val.__name__.split(\".\")[0]\n",
    "\n",
    "        elif isinstance(val, type):\n",
    "            name = val.__module__.split(\".\")[0]\n",
    "            \n",
    "        poorly_named_packages = {\n",
    "            \"PIL\": \"Pillow\",\n",
    "            \"sklearn\": \"scikit-learn\"\n",
    "        }\n",
    "        if name in poorly_named_packages.keys():\n",
    "            name = poorly_named_packages[name]\n",
    "\n",
    "        yield name\n",
    "imports = list(set(get_imports()))\n",
    "\n",
    "requirements = []\n",
    "for m in pkg_resources.working_set:\n",
    "    if m.project_name in imports and m.project_name!=\"pip\":\n",
    "        requirements.append((m.project_name, m.version))\n",
    "\n",
    "for r in requirements:\n",
    "    print(\"{}=={}\".format(*r))"
   ]
  },
  {
   "cell_type": "markdown",
   "metadata": {},
   "source": [
    "### Get the estimated expenditure distributions at the member-state level"
   ]
  },
  {
   "cell_type": "code",
   "execution_count": 5,
   "metadata": {},
   "outputs": [],
   "source": [
    "df_20072013_ERDF_IT = pd.read_csv('Expenditure_IT.csv',index_col=[0])\n",
    "\n",
    "dist = df_20072013_ERDF_IT.groupby('r')[[str(y) for y in range(2007,2017)]].sum()"
   ]
  },
  {
   "cell_type": "markdown",
   "metadata": {},
   "source": [
    "### Get rid of the exceeding figure of the uncertified expenditures"
   ]
  },
  {
   "cell_type": "code",
   "execution_count": 3,
   "metadata": {},
   "outputs": [],
   "source": [
    "df = pd.read_excel('20181231 Pagamenti ammessi PO 2007-2013.xls',usecols=[0,1,2,3,4,5,7])\n",
    "df_REGIO = df[(df['CCI'].str.contains(\"161\"))|df['CCI'].str.contains(\"162\")]\n",
    "df_REGIO_capped = df_REGIO[df_REGIO.ANNO<2017]\n",
    "Excess = -dist.iloc[0].sum()+df_REGIO_capped.PAGAMENTO_AMMESSO_UE.sum()\n",
    "df_REGIO_yearly = df_REGIO_capped.groupby('ANNO')\n",
    "df_REGIO_sum = pd.DataFrame([dfr.PAGAMENTO_AMMESSO_UE.sum() for idf, dfr in df_REGIO_yearly], \n",
    "                            index=[idf for idf, dfr in df_REGIO_yearly],columns=['sum'])"
   ]
  },
  {
   "cell_type": "code",
   "execution_count": 4,
   "metadata": {},
   "outputs": [],
   "source": [
    "d_l = []\n",
    "for i in reversed(df_REGIO_sum.index):\n",
    "    df_REGIO_norm = df_REGIO_sum.copy()\n",
    "    df_REGIO_norm.loc[i:2016]=df_REGIO_sum.loc[i:2016]-Excess/(2016-i+1)\n",
    "    d_l.append(df_REGIO_norm)\n",
    "df_REGIO_normalization = pd.concat(d_l,axis=1)"
   ]
  },
  {
   "cell_type": "markdown",
   "metadata": {},
   "source": [
    "### Evaluate their relation"
   ]
  },
  {
   "cell_type": "code",
   "execution_count": 8,
   "metadata": {},
   "outputs": [],
   "source": [
    "for c in dist:\n",
    "    dist[c].plot.hist(bins = 100, label='estimated expenditure distribution')\n",
    "    plt.axvspan(df_REGIO_normalization.loc[int(c)].min(), df_REGIO_normalization.loc[int(c)].max(), alpha=0.25, color='red',\n",
    "               label='incurred expenditure range')\n",
    "    plt.title(c)\n",
    "    plt.legend()\n",
    "    plt.savefig(time.strftime(\"%Y.%m.%d\") + '_' + str(c) + '_2007-2013_ERDF_IT expenditure database vs modelled expenditure distribution.png')\n",
    "    plt.close()"
   ]
  },
  {
   "cell_type": "code",
   "execution_count": null,
   "metadata": {},
   "outputs": [],
   "source": []
  }
 ],
 "metadata": {
  "kernelspec": {
   "display_name": "Python 3",
   "language": "python",
   "name": "python3"
  },
  "language_info": {
   "codemirror_mode": {
    "name": "ipython",
    "version": 3
   },
   "file_extension": ".py",
   "mimetype": "text/x-python",
   "name": "python",
   "nbconvert_exporter": "python",
   "pygments_lexer": "ipython3",
   "version": "3.7.3"
  }
 },
 "nbformat": 4,
 "nbformat_minor": 2
}
