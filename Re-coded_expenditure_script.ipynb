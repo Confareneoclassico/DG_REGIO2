{
 "cells": [
  {
   "cell_type": "markdown",
   "metadata": {},
   "source": [
    "### Importing all the relevant libraries"
   ]
  },
  {
   "cell_type": "code",
   "execution_count": 4,
   "metadata": {},
   "outputs": [],
   "source": [
    "import matplotlib\n",
    "import matplotlib.pyplot as plt\n",
    "import pkg_resources\n",
    "import pandas as pd\n",
    "import numpy as np\n",
    "import sobol_seq\n",
    "import types"
   ]
  },
  {
   "cell_type": "markdown",
   "metadata": {},
   "source": [
    "### Calling the dataframe we'll be working on"
   ]
  },
  {
   "cell_type": "code",
   "execution_count": null,
   "metadata": {},
   "outputs": [],
   "source": [
    "df = pd.read_excel('C:/Users/Samuele/Dropbox (Personal)/ECGC_Barcelona/1.Projects/01-DG_REGIO/Database_Final_UPD(3).xlsx')"
   ]
  },
  {
   "cell_type": "markdown",
   "metadata": {},
   "source": [
    "### Generate the series of quasi-random numbers for the analysis"
   ]
  },
  {
   "cell_type": "code",
   "execution_count": null,
   "metadata": {},
   "outputs": [],
   "source": [
    "quasiRandom_df = pd.DataFrame(sobol_seq.i4_sobol_generate(6,1000))\n",
    "DistributionFiMax = 0.8+quasiRandom_df[0]*0.2\n",
    "DistributionFiMin = 0.2+quasiRandom_df[1]*0.2"
   ]
  },
  {
   "cell_type": "markdown",
   "metadata": {},
   "source": [
    "### Rearrange the dataframe for our convenience"
   ]
  },
  {
   "cell_type": "code",
   "execution_count": null,
   "metadata": {},
   "outputs": [],
   "source": [
    "dfb = df[['ProgrammingPeriod','Country','NUTS1Code','NUTS2Code','Year','CF_TOTAL','EAGGF','ERDF_TOTAL','ESF']].copy()\n",
    "df2 = dfb.melt(id_vars=['ProgrammingPeriod','Country','NUTS1Code','NUTS2Code','Year'],var_name='FundingScheme')\n",
    "df3 = df2.pivot_table(index=['ProgrammingPeriod','FundingScheme','Country','NUTS1Code','NUTS2Code'],columns='Year', values='value')\n",
    "df4 = df3.dropna(how='all').fillna(0)"
   ]
  },
  {
   "cell_type": "markdown",
   "metadata": {},
   "source": [
    "### Excluding years before the commencing of the programming periods"
   ]
  },
  {
   "cell_type": "code",
   "execution_count": null,
   "metadata": {},
   "outputs": [],
   "source": [
    "dummy = []\n",
    "\n",
    "diff = int(np.sort(np.array(list(set(df.ProgrammingPeriod))))[0][5:])+6-\\\n",
    "int(np.sort(np.array(list(set(df.ProgrammingPeriod))))[0][:4])\n",
    "\n",
    "d_Var = pd.Series([k/diff for k in range(1,diff+1)],[y for y in \\\n",
    "range(int(np.sort(np.array(list(set(df.ProgrammingPeriod))))[0][:4]),\n",
    "int(np.sort(np.array(list(set(df.ProgrammingPeriod))))[0][5:])+6)])\n",
    "\n",
    "dummy.append(d_Var)\n",
    "\n",
    "for pp in np.sort(np.array(list(set(df.ProgrammingPeriod))))[1:]:\n",
    "    diff = int(pp[5:])+4-int(pp[:4])\n",
    "    \n",
    "    d_Var = pd.Series([k/diff for k in range(1,diff+1)],[y for y in range(int(pp[:4]),int(pp[5:])+4)])\n",
    "    \n",
    "    dummy.append(d_Var)"
   ]
  },
  {
   "cell_type": "markdown",
   "metadata": {},
   "source": [
    "### Normalise the cumulative figures"
   ]
  },
  {
   "cell_type": "code",
   "execution_count": null,
   "metadata": {},
   "outputs": [],
   "source": [
    "df5 = df4.copy()\n",
    "\n",
    "Norm_df6 = ((df5.cumsum(axis=1).T/df5.cumsum(axis=1).max(axis=1).values).T).dropna(how='all')"
   ]
  },
  {
   "cell_type": "markdown",
   "metadata": {},
   "source": [
    "### Define the two outcome variables"
   ]
  },
  {
   "cell_type": "code",
   "execution_count": null,
   "metadata": {},
   "outputs": [],
   "source": [
    "for ip, pp in enumerate(np.sort(np.array(list(set(df.ProgrammingPeriod))))):\n",
    "    Norm_df6.loc[pd.IndexSlice[pp,:,:,:],'$\\delta$'] = (Norm_df6.loc[pd.IndexSlice[pp,:,:,:],dummy[ip].index]-dummy[ip].T).cumsum(axis=1).iloc[:,-1]    "
   ]
  },
  {
   "cell_type": "code",
   "execution_count": null,
   "metadata": {},
   "outputs": [],
   "source": [
    "df7 = Norm_df6.groupby(['ProgrammingPeriod','FundingScheme'])\n",
    "ld = []\n",
    "for idx, df7b in df7:\n",
    "    df8 = df7b.copy()\n",
    "    df8['$\\mu$']=(df8['$\\delta$'].max()-df8['$\\delta$'])/(df8['$\\delta$'].max()-df8['$\\delta$'].min())\n",
    "    ld.append(df8)\n",
    "Norm_df7 = pd.concat(ld)"
   ]
  },
  {
   "cell_type": "markdown",
   "metadata": {},
   "source": [
    "### Set the trigger for the number of years the residual expenditure gets spread onto on the last eligible year of the programming perido"
   ]
  },
  {
   "cell_type": "code",
   "execution_count": null,
   "metadata": {},
   "outputs": [],
   "source": [
    "df7c = Norm_df7.groupby(['ProgrammingPeriod'])\n",
    "ld1 = []\n",
    "co = -1\n",
    "for idx, df7d in df7c:\n",
    "    co+=1\n",
    "    for iq,qr in enumerate(quasiRandom_df[2]):\n",
    "        df8b = df7d.copy()\n",
    "        df8b[0]=(qr*(df7d['$\\mu$']*(len(dummy[co])-1)).astype(int)).astype(int)+1\n",
    "        for il in range(1,len(dummy[co])):\n",
    "            df8b[il]=df8b[0]-il\n",
    "        df8b[df8b<1]=1\n",
    "        cd = [il0 for il0 in range(len(dummy[co]))]\n",
    "        df8b['value']=iq\n",
    "        cd.append('value')\n",
    "        df8b = df8b[cd]\n",
    "        ld1.append(df8b)\n",
    "years = pd.concat(ld1)\n",
    "years.set_index('value', append=True, inplace=True)"
   ]
  },
  {
   "cell_type": "markdown",
   "metadata": {},
   "source": [
    "### Define the yearly residues"
   ]
  },
  {
   "cell_type": "code",
   "execution_count": null,
   "metadata": {},
   "outputs": [],
   "source": [
    "def A(n):\n",
    "    return [(2**j)/(2**n-1) for j in reversed(range(n))]\n",
    "\n",
    "B9 = []\n",
    "for k in reversed(range(2,11)):\n",
    "    B9.append(pd.DataFrame([A(y) for y in range(1,k)],index=[y for y in range(1,k)],\n",
    "                           columns=[y for y in range(1,k)]).fillna(0).sort_values(by=1,ascending=False))\n"
   ]
  },
  {
   "cell_type": "code",
   "execution_count": null,
   "metadata": {},
   "outputs": [],
   "source": [
    "Payments = df5.loc[Norm_df6.index].copy()"
   ]
  },
  {
   "cell_type": "markdown",
   "metadata": {},
   "source": [
    "### Evaluate the expenditure figures"
   ]
  },
  {
   "cell_type": "code",
   "execution_count": null,
   "metadata": {},
   "outputs": [],
   "source": [
    "eg  = df5.loc[Norm_df6.index].groupby('ProgrammingPeriod')\n",
    "co = -1\n",
    "\n",
    "Expend = []\n",
    "for r in range(len(quasiRandom_df)):\n",
    "    co = -1\n",
    "    Expe = []\n",
    "    for ie, Eg in eg:\n",
    "        co += 1\n",
    "        Exp = Eg.copy()\n",
    "        if ie == '1989-1993':\n",
    "            y = [yr for yr in range(int(ie[5:])+5,df5.columns.max())]\n",
    "\n",
    "            Exp[int(ie[5:])+5]=Eg[y].agg('sum',axis=1)\n",
    "\n",
    "            Exp.loc[:,y[1:]] = 0\n",
    "\n",
    "            Exp[int(ie[5:])+5] = Exp[int(ie[5:])+5]*(DistributionFiMax[r]- \n",
    "            Norm_df7.loc[pd.IndexSlice[ie,:,:,:],'$\\mu$']*(DistributionFiMax[r]-DistributionFiMin[r]))\n",
    "\n",
    "            for iy2,y2 in enumerate(range(int(ie[:4]),int(ie[5:])+5)):\n",
    "                Exp[y2] = Eg[y2]*(DistributionFiMax[r]- \n",
    "                Norm_df7.loc[pd.IndexSlice[ie,:,:,:],'$\\mu$']*(DistributionFiMax[r]-DistributionFiMin[r]))\n",
    "\n",
    "                for iy3,y3 in enumerate(reversed(range(y2,int(ie[5:])+5))):\n",
    "                    Exp[y2]+=Eg[y3+1]*(1-DistributionFiMax[r]+ \n",
    "                    Norm_df7.loc[pd.IndexSlice[ie,:,:,:],'$\\mu$']*(DistributionFiMax[r]-DistributionFiMin[r]))*\\\n",
    "                    B9[iy3+len(dummy[0])-len(dummy[co])].loc[years.loc[pd.IndexSlice[ie,:,:,:,:,r],iy3].values,\n",
    "                                                     (y3+1-y2)].values\n",
    "\n",
    "            Exp[int(ie[:4])] += Eg[int(ie[:4])]*(1-DistributionFiMax[r]+\n",
    "            Norm_df7.loc[pd.IndexSlice[ie,:,:,:,:],'$\\mu$']*(DistributionFiMax[r]-DistributionFiMin[r]))\n",
    "\n",
    "        elif ie == '1994-1999' or ie == '2000-2006':\n",
    "            y = [yr for yr in range(int(ie[5:])+3,df5.columns.max())]\n",
    "\n",
    "            Exp[int(ie[5:])+3]=Eg[y].agg('sum',axis=1)\n",
    "\n",
    "            Exp.loc[:,y[1:]] = 0\n",
    "\n",
    "            Exp[int(ie[5:])+3] = Exp[int(ie[5:])+3]*(DistributionFiMax[r]- \n",
    "            Norm_df7.loc[pd.IndexSlice[ie,:,:,:],'$\\mu$']*(DistributionFiMax[r]-DistributionFiMin[r]))\n",
    "\n",
    "            for iy2,y2 in enumerate(range(int(ie[:4]),int(ie[5:])+3)):\n",
    "                Exp[y2] = Eg[y2]*(DistributionFiMax[r]- \n",
    "                Norm_df7.loc[pd.IndexSlice[ie,:,:,:],'$\\mu$']*(DistributionFiMax[r]-DistributionFiMin[r]))\n",
    "\n",
    "                for iy3,y3 in enumerate(reversed(range(y2,int(ie[5:])+3))):\n",
    "                    Exp[y2]+=Eg[y3+1]*(1-DistributionFiMax[r]+ \n",
    "                    Norm_df7.loc[pd.IndexSlice[ie,:,:,:],'$\\mu$']*(DistributionFiMax[r]-DistributionFiMin[r]))*\\\n",
    "                    B9[iy3+len(dummy[0])-len(dummy[co])].loc[years.loc[pd.IndexSlice[ie,:,:,:,:,r],iy3].values,\n",
    "                                                     (y3+1-y2)].values\n",
    "\n",
    "            Exp[int(ie[:4])] += Eg[int(ie[:4])]*(1-DistributionFiMax[r]+\n",
    "            Norm_df7.loc[pd.IndexSlice[ie,:,:,:,:],'$\\mu$']*(DistributionFiMax[r]-DistributionFiMin[r]))      \n",
    "\n",
    "        else:\n",
    "            Exp[df5.columns.max()]=Eg[df5.columns.max()]*(DistributionFiMax[r]- \n",
    "            Norm_df7.loc[pd.IndexSlice[ie,:,:,:],'$\\mu$']*(DistributionFiMax[r]-DistributionFiMin[r]))\n",
    "\n",
    "            for iy2,y2 in enumerate(reversed(range(int(ie[:4]),df5.columns.max()))):\n",
    "                Exp[y2] = Eg[y2]*(DistributionFiMax[r]- \n",
    "                Norm_df7.loc[pd.IndexSlice[ie,:,:,:],'$\\mu$']*(DistributionFiMax[r]-DistributionFiMin[r]))\n",
    "\n",
    "                for iy3,y3 in enumerate(reversed(range(y2,df5.columns.max()))):\n",
    "                    Exp[y2]+=Eg[y3+1]*(1-DistributionFiMax[r]+ \n",
    "                    Norm_df7.loc[pd.IndexSlice[ie,:,:,:],'$\\mu$']*(DistributionFiMax[r]-DistributionFiMin[r]))*\\\n",
    "                    B9[iy3+len(dummy[0])-len(dummy[co])].loc[years.loc[pd.IndexSlice[ie,:,:,:,:,r],iy3].values,\n",
    "                                                     (y3+1-y2)].values\n",
    "\n",
    "            Exp[int(ie[:4])] += Eg[int(ie[:4])]*(1-DistributionFiMax[r]+\n",
    "            Norm_df7.loc[pd.IndexSlice[ie,:,:,:,:],'$\\mu$']*(DistributionFiMax[r]-DistributionFiMin[r]))\n",
    "\n",
    "        Expe.append(Exp)\n",
    "    Expen = pd.concat(Expe)\n",
    "    Expen['r']=r\n",
    "    Expend.append(Expen)\n",
    "Expenditure = pd.concat(Expend)\n",
    "Expenditure.set_index('r', append=True, inplace=True)"
   ]
  },
  {
   "cell_type": "code",
   "execution_count": null,
   "metadata": {},
   "outputs": [],
   "source": [
    "Expenditure.to_csv('Expenditure.csv')"
   ]
  },
  {
   "cell_type": "markdown",
   "metadata": {},
   "source": [
    "### One can finally extract all the relevant features for the analysis"
   ]
  },
  {
   "cell_type": "code",
   "execution_count": 366,
   "metadata": {},
   "outputs": [],
   "source": [
    "Feature_dic = {'Mean':Expenditure.groupby(['ProgrammingPeriod','FundingScheme','Country','NUTS1Code','NUTS2Code']).mean(),\n",
    "              'Std':Expenditure.groupby(['ProgrammingPeriod','FundingScheme','Country','NUTS1Code','NUTS2Code']).std()}\n",
    "\n",
    "Feature_pivot_dic = Feature_dic.copy()\n",
    "\n",
    "for fk in Feature_pivot_dic.keys():\n",
    "    Feature_pivot_dic[fk] =  pd.pivot_table(Feature_dic[fk].stack().reset_index(),values = 0,columns = 'FundingScheme',\n",
    "                                        index=['ProgrammingPeriod','Country','NUTS1Code','NUTS2Code','Year']).reset_index()"
   ]
  },
  {
   "cell_type": "code",
   "execution_count": 368,
   "metadata": {},
   "outputs": [],
   "source": [
    "writer = pd.ExcelWriter('PivotedData.xlsx', engine='xlsxwriter')\n",
    "\n",
    "for fk in Feature_pivot_dic.keys():\n",
    "    Feature_pivot_dic[fk].to_excel(writer, sheet_name=fk)\n",
    "    \n",
    "writer.save()"
   ]
  },
  {
   "cell_type": "code",
   "execution_count": null,
   "metadata": {},
   "outputs": [],
   "source": []
  }
 ],
 "metadata": {
  "kernelspec": {
   "display_name": "Python 3",
   "language": "python",
   "name": "python3"
  },
  "language_info": {
   "codemirror_mode": {
    "name": "ipython",
    "version": 3
   },
   "file_extension": ".py",
   "mimetype": "text/x-python",
   "name": "python",
   "nbconvert_exporter": "python",
   "pygments_lexer": "ipython3",
   "version": "3.7.1"
  }
 },
 "nbformat": 4,
 "nbformat_minor": 2
}
